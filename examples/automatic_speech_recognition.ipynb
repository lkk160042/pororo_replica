{
 "cells": [
  {
   "cell_type": "code",
   "execution_count": 1,
   "id": "secure-premiere",
   "metadata": {},
   "outputs": [],
   "source": [
    "from pororo import Pororo"
   ]
  },
  {
   "cell_type": "code",
   "execution_count": 2,
   "id": "appreciated-floor",
   "metadata": {},
   "outputs": [
    {
     "name": "stderr",
     "output_type": "stream",
     "text": [
      "2021-02-01 17:13:28 | INFO | root | Downloading user-selected model . . .\n",
      "2021-02-01 17:13:39 | INFO | root | Downloading user-selected model . . .\n"
     ]
    }
   ],
   "source": [
    "asr = Pororo(task=\"asr\", lang=\"en\")"
   ]
  },
  {
   "cell_type": "code",
   "execution_count": 5,
   "id": "sufficient-phone",
   "metadata": {},
   "outputs": [
    {
     "data": {
      "text/plain": [
       "{'audio': 'english.wav',\n",
       " 'duration': '0:00:20.560000',\n",
       " 'results': [{'speech_section': '0:00:00 ~ 0:00:21',\n",
       "   'length_ms': 20560.0,\n",
       "   'speech': 'I LOVE THEE WITH A LOVE I SEEMED TO LOSE WITH MY LOST SAINTS I LOVE THEE WITH THE BREATH SMILES TEARS OF ALL MY LIFE AND IF GOD CHOOSE I SHALL BUT LOVE THEE BETTER AFTER DEATH'}]}"
      ]
     },
     "execution_count": 5,
     "metadata": {},
     "output_type": "execute_result"
    }
   ],
   "source": [
    "# You can pass the audio file path to the input. (WAV, FLAC, MP3, and PCM)\n",
    "asr('english.wav')  "
   ]
  },
  {
   "cell_type": "code",
   "execution_count": 6,
   "id": "demographic-lewis",
   "metadata": {},
   "outputs": [],
   "source": [
    "asr = Pororo(task=\"asr\", lang=\"ko\")"
   ]
  },
  {
   "cell_type": "code",
   "execution_count": 7,
   "id": "physical-funeral",
   "metadata": {},
   "outputs": [
    {
     "data": {
      "text/plain": [
       "{'audio': 'example.wav',\n",
       " 'duration': '0:00:03.297250',\n",
       " 'results': [{'speech_section': '0:00:00 ~ 0:00:03',\n",
       "   'length_ms': 3300.0,\n",
       "   'speech': '이 책은 살 만한 가치가 없어'}]}"
      ]
     },
     "execution_count": 7,
     "metadata": {},
     "output_type": "execute_result"
    }
   ],
   "source": [
    "asr('korean.wav')  "
   ]
  }
 ],
 "metadata": {
  "kernelspec": {
   "display_name": "Python 3",
   "language": "python",
   "name": "python3"
  },
  "language_info": {
   "codemirror_mode": {
    "name": "ipython",
    "version": 3
   },
   "file_extension": ".py",
   "mimetype": "text/x-python",
   "name": "python",
   "nbconvert_exporter": "python",
   "pygments_lexer": "ipython3",
   "version": "3.7.7"
  }
 },
 "nbformat": 4,
 "nbformat_minor": 5
}